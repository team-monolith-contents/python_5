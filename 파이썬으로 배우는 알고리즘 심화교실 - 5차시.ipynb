{
 "cells": [
  {
   "cell_type": "markdown",
   "id": "2d8dd860-f8a8-4819-901a-4b8415fc85f2",
   "metadata": {
    "tags": []
   },
   "source": [
    "<div style=\"padding: 15px; border: 5px solid transparent; border-color: transparent; margin-bottom: 20px; border-radius: 4px; color: #3c763d; background-color: #dff0d8; border-color: #d6e9c6; font-weight: bold;\">\n",
    "    <br><br>\n",
    "    <div style=\"font-weight: bold; font-size: 40px\">파이썬으로 배우는 알고리즘 심화교실</div>\n",
    "    <div style=\"font-weight: bold; font-size: 20px\">(5) 데이터를 비교해보아요.</div>\n",
    "    <hr style=\"width:80%;text-align:left;margin-left:0;border:0.5px solid green\">\n",
    "    <br>\n",
    "    &#x2022; 비교연산자를 사용할 수 있다.<br>\n",
    "    &#x2022; if 조건문을 활용해 특정조건을 만족했을 때에만 동작을 하는 코드를 작성할 수 있다.<br>\n",
    "    &#x2022; if-else 조건문을 활용해 조건에 따라 다른 동작을 하는 코드를 작성할 수 있다.<br>\n",
    "    &#x2022; if-elif-else 조건문을 활용해 여러가지 조건이 포함된 조건문을 사용할 수 있다.<br>\n",
    "    &#x2022; 숫자 야구 게임에서 볼, 스트라이크를 판정하는 시스템을 만든다.<br>\n",
    "</div>"
   ]
  },
  {
   "cell_type": "markdown",
   "id": "2c101281-2089-4d4f-82a2-318c5a5b2861",
   "metadata": {
    "tags": []
   },
   "source": [
    "<div style=\"padding: 15px; border: 5px solid transparent; border-color: transparent; margin-bottom: 20px; border-radius: 4px; color: #3c763d; border-color: #d6e9c6; font-weight: bold;\">\n",
    "<h2 style='font-weight: bold'>1. 비교연산자</h2>\n",
    "</div> "
   ]
  },
  {
   "cell_type": "markdown",
   "id": "7024d51a-7824-4ba9-a827-a078b9d3c974",
   "metadata": {},
   "source": [
    "비교 연산자는 2개의 값을 비교하는데 사용되는 연산자를 말합니다.<br>\n",
    "비교 연산자는 2개의 값을 비교하여 `True` 혹은 `False`의 값(bool값)을 반환합니다.<br>\n",
    "비교 결과가 맞으면 `True`, 아니면 `False`를 반환합니다."
   ]
  },
  {
   "cell_type": "markdown",
   "id": "dae9c41b-a284-4e8e-99c3-376ec3481a56",
   "metadata": {
    "tags": []
   },
   "source": [
    "### 크기 비교하기"
   ]
  },
  {
   "cell_type": "markdown",
   "id": "7705f35c-bfce-484d-a2fe-b9353516ec7e",
   "metadata": {},
   "source": [
    "2개의 데이터의 크기가 같은지 비교하기 위해서는 우리가 흔히 사용하는 등호와 부등호를 사용합니다.\n",
    "\n",
    "비교 연산자의 종류 | 설명 | 예시 | True of False\n",
    "---|:---:|---|---\n",
    "a>b | a가 b 초과일 때 참 | 17>5 | True\n",
    "a>=b | a가 b 이상일 때 참 | 2>=4 | False\n",
    "a==b | a와 b가 동일할 때 참 | 3==3 |True\n",
    "a!=b | a와 b가 다른 경우 참 | 7!=7 | False\n",
    "a<b | a가 b 미만일 때 참 | 3<4 |True\n",
    "a<=b | a가 b 이하일 때 참 | 7<=9 | True\n",
    "\n",
    "\n",
    "```python\n",
    "my_string = \"Hello, Python!\"\n",
    "print(my_string[0])      # 'H'\n",
    "print(my_string[7:13])   # 'Python'\n",
    "```"
   ]
  },
  {
   "cell_type": "markdown",
   "id": "e4fb863c-470a-4f55-8364-ffbb40c72835",
   "metadata": {},
   "source": [
    "<div style=\"padding: 15px; border: 5px solid transparent; border-color: transparent; margin-bottom: 20px; border-radius: 4px; color: #a94442; border-color: #ebccd1;\">\n",
    "    <div style=\"font-weight: bold; font-size: 20px\">💣 자주만나는 오류</div>\n",
    "비교 연산자 `==`과 대입 연산자 `=`을 헷갈리지 않게 주의해야 합니다.<br>\n",
    "a == b : a와 b가 동일할 때 참을 반환합니다.<br>\n",
    "a = b : 변수 a에 값 b를 대입해줍니다. (참고 : 이 코드 이전에 b가 선언되지 않았다면 오류가 발생합니다.)\n",
    "\n",
    "</div>"
   ]
  },
  {
   "cell_type": "markdown",
   "id": "2e80cce8-ccbe-4c71-8a3f-16d3d42c8610",
   "metadata": {},
   "source": [
    "<div style=\"padding: 15px; border: 5px solid transparent; border-color: transparent; margin-bottom: 20px; border-radius: 4px; color: #a94442; border-color: #ebccd1;\">\n",
    "    <div style=\"font-weight: bold; font-size: 20px\">💣 자주만나는 오류</div>\n",
    "!=, >=, <= 에서 \"=\"는 반드시 오른쪽에 작성되어야 합니다. \n",
    "\n",
    "</div>"
   ]
  },
  {
   "cell_type": "markdown",
   "id": "a07c26b4-b4b3-483b-858f-28e1c2c874c7",
   "metadata": {},
   "source": [
    "**예제 1 : 비교연산자 사용**"
   ]
  },
  {
   "cell_type": "code",
   "execution_count": null,
   "id": "8f163a22-4679-4d58-aab8-26b6efb03972",
   "metadata": {
    "tags": []
   },
   "outputs": [],
   "source": [
    "# 예제_1_비교연산자_사용\n",
    "\n",
    "print(17 > 5) # True\n",
    "print(2 >= 4) # False\n",
    "print(3 == 3) # True\n",
    "print(7 != 7) # False\n",
    "print(3 < 4) # True\n",
    "print(7 <= 9) # True"
   ]
  },
  {
   "cell_type": "markdown",
   "id": "4967dba1-9a95-4640-baa8-2fa4484ab385",
   "metadata": {
    "tags": []
   },
   "source": [
    "<div style=\"padding: 15px; border: 5px solid transparent; border-color: transparent; margin-bottom: 20px; border-radius: 4px; color: #3c763d; border-color: #d6e9c6; font-weight: bold;\">\n",
    "<h2 style='font-weight: bold'>1. if 조건문 사용하기</h2>\n",
    "</div> "
   ]
  },
  {
   "cell_type": "markdown",
   "id": "4ca61327-d9ed-4478-a55e-bb7e4b69882e",
   "metadata": {},
   "source": [
    "if 조건문은 if 라는 키워드를 사용합니다.<br>\n",
    "아래와 같은 형태를 가지고 있습니다.<br>\n",
    "\n",
    "```python\n",
    "if 조건:\n",
    "    조건이 만족할 때 실행될 코드\n",
    "```\n",
    "\n",
    "`조건` 부분에는 True(참) 혹은 False(거짓) 을 판별할 수 있는 표현식이 사용됩니다.<br>\n",
    "앞서 배웠던 비교연산자, 논리연산자들을 사용할 수 있습니다.<br>\n",
    "\n",
    "`조건이 만족할 때에 실행될 코드` 부분은 `조건`이 만족할 때에만 실행되는 코드입니다.<br>\n",
    "만약 `조건`이 만족하지 않는다면 조건이 만족할 때 실행될 코드는 실행되지 않고 넘어갑니다.<br>\n",
    "`조건이 만족할 떄에 실행될 코드`는 조건문 밖의 다른 코드들과 구분하기 위해서 들여쓰기를 해줍니다.<br>\n",
    "\n",
    "아래의 예시 코드들을 보면서 함께 익혀봅시다."
   ]
  },
  {
   "cell_type": "markdown",
   "id": "f8ec36c7-cb46-45fa-ab1c-50591af6dd38",
   "metadata": {},
   "source": [
    "<div style=\"padding: 15px; border: 5px solid transparent; border-color: transparent; margin-bottom: 20px; border-radius: 4px; color: #31708f; border-color: #bce8f1;\">\n",
    "    <div style=\"font-weight: bold; font-size: 20px\">📌 TIP</div>\n",
    "    &#x2022; 들여쓰기는 tab키를 한 번 누르거나 스페이스바를 4번 눌러 작성할 수 있습니다.\n",
    "</div>"
   ]
  },
  {
   "cell_type": "markdown",
   "id": "74e665ff-959f-41a5-a6c0-b271f601c3a3",
   "metadata": {},
   "source": [
    "**예제 2 : if문을 활용하여 n이 5일때만 출력하는 코드**"
   ]
  },
  {
   "cell_type": "code",
   "execution_count": null,
   "id": "a73ba071-3c41-4f87-967a-2336e88b3f0a",
   "metadata": {
    "tags": []
   },
   "outputs": [],
   "source": [
    "# 예제_2_if문을_활용하여_n이_5일때만_출력하는_코드\n",
    "\n",
    "n = int(input(\"숫자를 입력하세요\"))\n",
    "if n == 5:\n",
    "    print(\"n은 5 입니다!\")  # n이 5인 것이 참일 때 실행됩니다. "
   ]
  },
  {
   "cell_type": "markdown",
   "id": "0abd0bc7-ea1b-48ba-b187-95f88897bf03",
   "metadata": {},
   "source": [
    "**예제 3 : if문을 활용하여 n이 5일때만 출력하는 코드2**"
   ]
  },
  {
   "cell_type": "code",
   "execution_count": null,
   "id": "a82b3ed4-eaff-4e20-ad43-88674d3f3309",
   "metadata": {
    "tags": []
   },
   "outputs": [],
   "source": [
    "# 예제_3_if문을_활용하여_n이_5일때만_출력하는_코드2\n",
    "\n",
    "n = int(input(\"숫자를 입력하세요\"))\n",
    "if n == 5:\n",
    "    print(\"n은 5 입니다!\")\n",
    "print(\"코드가 끝났습니다.\") # n이 어떤 값이든 실행됩니다."
   ]
  },
  {
   "cell_type": "markdown",
   "id": "5812257f-99c8-4008-9014-ba9f037e5d77",
   "metadata": {},
   "source": [
    "**예제 4 : 잘못 사용된 if문**"
   ]
  },
  {
   "cell_type": "code",
   "execution_count": null,
   "id": "73f69f9f-713e-4d66-ac8b-2e5ffef8bb47",
   "metadata": {
    "error_code": "# 예제_3_잘못_사용된_if문\n\nn = int(input(\"숫자를 입력하세요\"))\nif n = 5: # if 뒤에 True 또는 False로 표현할 수 있는 표현식이 사용되지 않았습니다.\n    print(\"n은 5 입니다!\")  ",
    "tags": []
   },
   "outputs": [],
   "source": [
    "# 예제_4_잘못_사용된_if문\n",
    "\n",
    "n = int(input(\"숫자를 입력하세요\"))\n",
    "if n = 5: # if 뒤에 True 또는 False로 표현할 수 있는 표현식이 사용되지 않았습니다.\n",
    "    print(\"n은 5 입니다!\")"
   ]
  },
  {
   "cell_type": "markdown",
   "id": "31481bab-45b1-4b1b-a523-55d6e52e85ce",
   "metadata": {},
   "source": [
    "<div style=\"padding: 15px; border: 5px solid transparent; border-color: transparent; margin-bottom: 20px; border-radius: 4px; color: #a94442; border-color: #ebccd1;\">\n",
    "    <div style=\"font-weight: bold; font-size: 20px\">💣 자주만나는 오류</div>\n",
    "    if 뒤에는 True 또는 False로 표현할 수 있는 표현식이 사용되어야 합니다.<br>\n",
    "    예제3의 4번째 줄의 코드는 if 뒤에 n에 5를 대입하는 코드가 사용되었습니다.<br>\n",
    "    이 코드는 True 또는 False로 표현할 수 없기 때문에 오류가 발생합니다. <br>\n",
    "    n과 5가 같은지 비교 하기 위해서는 비교연산자 `==`를 사용하도록 코드를 수정하여야 합니다.\n",
    "</div>"
   ]
  },
  {
   "cell_type": "markdown",
   "id": "b53a2412-26dd-432d-93b3-4adc6513e34e",
   "metadata": {},
   "source": [
    "<div style=\"padding: 15px; border: 5px solid transparent; border-color: transparent; margin-bottom: 20px; border-radius: 4px; color: #8a6d3b;  border-color: #faebcc;\">\n",
    "    <div style=\"font-weight: bold; font-size: 20px\">💯 연습문제를 풀어봅시다</div>\n",
    "    <br>\n",
    "    <a class=\"jcecodle-mk jcecodle-mk__problem-chip\" data-problem-id=\"127\" href='#jce-judge/open/127' target='_self'><span>짝수 출력하기1</span></a>\n",
    "    <a class=\"jcecodle-mk jcecodle-mk__problem-chip\" data-problem-id=\"LON4taNs-_g\" href='#jce-judge/open/LON4taNs-_g' target='_self'><span>절댓값 찾기1</span></a>\n",
    "    <a class=\"jcecodle-mk jcecodle-mk__problem-chip\" data-problem-id=\"pIFJ5MdnuSA\" href='#jce-judge/open/pIFJ5MdnuSA' target='_self'><span>간단한 조건문</span></a>\n",
    "</div>"
   ]
  },
  {
   "cell_type": "markdown",
   "id": "9bf8fe28-7c4b-4bcd-9e91-c81b0f9e3ea0",
   "metadata": {
    "tags": []
   },
   "source": [
    "<div style=\"padding: 15px; border: 5px solid transparent; border-color: transparent; margin-bottom: 20px; border-radius: 4px; color: #3c763d; border-color: #d6e9c6; font-weight: bold;\">\n",
    "<h2 style='font-weight: bold'>2. if-else 조건문 사용하기</h2>\n",
    "</div> "
   ]
  },
  {
   "cell_type": "markdown",
   "id": "c2967121-8728-4967-9116-2353e21e6459",
   "metadata": {},
   "source": [
    "조건문을 사용할 때, 조건이 참이 아닐 때 실행되는 코드를 추가할 수 있습니다.<br>\n",
    "`else` 문을 사용하여 조건이 거짓일 때 특정 코드를 실행할 수 있도록 합니다.<br>\n",
    "이를 통해 코드의 진행이 2가지 방향으로 나뉘게 됩니다.<br>\n",
    "\n",
    "`else`를 사용하면 코드는 아래와 같은 형태를 가집니다.<br>\n",
    "\n",
    "```python\n",
    "if 조건:\n",
    "    조건이 만족할 때 실행될 코드\n",
    "else:\n",
    "    조건을 만족하지 않을 때 실행될 코드\n",
    "```\n",
    "\n",
    "앞서 `if` 조건문에서 `else` 가 추가된 형태입니다.<br>\n",
    "`조건` 부분과 `조건이 만족할 때 실행될 코드` 부분은 앞선 `if` 문과 동일합니다.<br>\n",
    "\n",
    "`else` 뒤에는 조건이 붙지 않는데, 이는 else 이후에 오는 `조건을 만족하지 않을 때 실행될 코드` 부분은 `조건`이 만족하지 않을 때, 즉, False(거짓) 일 때에 실행되기 때문입니다.<br>\n",
    "따라서 `else`는 단독으로 사용될 수 없고 항상 `if` 의 뒤에 존재해야 합니다.<br>\n",
    "\n",
    "`조건을 만족하지 않을 때 실행될 코드` 부분은 `조건이 만족할 때 실행될 코드`와 마찬가지로 들여쓰기를 해 코드의 다른 부분과 구분해줍니다.<br>\n",
    "\n",
    "아래의 예시 코드들을 보면서 함께 익혀봅시다."
   ]
  },
  {
   "cell_type": "markdown",
   "id": "3f095f04-4334-4194-a6d5-ab36c739383e",
   "metadata": {},
   "source": [
    "**예제 5 : if-else문을 활용하여 n이 5인지 여부에 따라 다르게 실행되는 코드**"
   ]
  },
  {
   "cell_type": "code",
   "execution_count": null,
   "id": "5656e879-32ab-446c-af9c-6cb0b994ec62",
   "metadata": {
    "tags": []
   },
   "outputs": [],
   "source": [
    "# 예제_5_if-else문을_활용하여_n이_5인지_여부에_따라_다르게_실행되는_코드\n",
    "\n",
    "n = int(input(\"숫자를 입력하세요\"))\n",
    "if n == 5:\n",
    "    print(\"n은 5 입니다!\")  # n이 5라는 조건이 참일 때 실행됩니다. \n",
    "else:\n",
    "    print(\"n은 5가 아닙니다!\")  # n이 5라는 조건이 거짓일 때 실행됩니다. "
   ]
  },
  {
   "cell_type": "markdown",
   "id": "b595266c-3d10-4db8-ad93-e423c2f61984",
   "metadata": {},
   "source": [
    "**예제 6 : if-else문을 활용하여 n이 5인지 여부에 따라 다르게 실행되는 코드2**"
   ]
  },
  {
   "cell_type": "code",
   "execution_count": null,
   "id": "6c62b23e-a9f3-4673-90da-727ce8eef677",
   "metadata": {
    "tags": []
   },
   "outputs": [],
   "source": [
    "# 예제_6_if-else문을_활용하여_n이_5인지_여부에_따라_다르게_실행되는_코드2\n",
    "\n",
    "n = int(input(\"숫자를 입력하세요\"))\n",
    "if n == 5:\n",
    "    print(\"n은 5 입니다!\")\n",
    "else:\n",
    "    print(\"n은 5가 아닙니다!\")\n",
    "print(\"코드가 끝났습니다.\") # n이 어떤 값이든 실행됩니다."
   ]
  },
  {
   "cell_type": "markdown",
   "id": "bd24c1fd-6365-4907-bb3e-e2b16edf46e8",
   "metadata": {},
   "source": [
    "<div style=\"padding: 15px; border: 5px solid transparent; border-color: transparent; margin-bottom: 20px; border-radius: 4px; color: #8a6d3b;  border-color: #faebcc;\">\n",
    "    <div style=\"font-weight: bold; font-size: 20px\">💯 연습문제를 풀어봅시다</div>\n",
    "    <br>\n",
    "    <a class=\"jcecodle-mk jcecodle-mk__problem-chip\" data-problem-id=\"129\" href='#jce-judge/open/129' target='_self'><span>짝수 출력하기2</span></a>\n",
    "    <a class=\"jcecodle-mk jcecodle-mk__problem-chip\" data-problem-id=\"Gv0aJ1qKcW0\" href='#jce-judge/open/Gv0aJ1qKcW0' target='_self'><span>윤년판별기</span></a>\n",
    "    <a class=\"jcecodle-mk jcecodle-mk__problem-chip\" data-problem-id=\"bQ1eH07hBD0\" href='#jce-judge/open/bQ1eH07hBD0' target='_self'><span>언제 성인이 될까요</span></a>\n",
    "\n",
    "</div>"
   ]
  },
  {
   "cell_type": "markdown",
   "id": "bdd5b6a3-bb58-471c-88ee-44b1e7da39a2",
   "metadata": {
    "tags": []
   },
   "source": [
    "<div style=\"padding: 15px; border: 5px solid transparent; border-color: transparent; margin-bottom: 20px; border-radius: 4px; color: #3c763d; border-color: #d6e9c6; font-weight: bold;\">\n",
    "<h2 style='font-weight: bold'>3. if-elif-else 조건문 사용하기</h2>\n",
    "</div> "
   ]
  },
  {
   "cell_type": "markdown",
   "id": "e439bd26-e270-403e-a755-fe0453a2fa23",
   "metadata": {},
   "source": [
    "프로그래밍을 하다 보면 참, 거짓의 2가지로만 상황을 처리하기에는 힘든 경우가 있습니다.<br>\n",
    "예를 들어 점수로 등급을 매기는 경우가 있습니다.<br>\n",
    "\n",
    "90점 이상은 A 등급, 70점 ~ 90점은 B 등급, 70점 미만은 C 등급을 매기려하고 하면 단순히 if-else 조건문만을 사용하면 한계가 있습니다.(이후에 배울 중첩조건문을 사용해서 해결할 수 있습니다.)<br>\n",
    "\n",
    "이 때에는 `elif`를 사용해 조건을 여러개 지정하여 각 조건마다 다른 코드를 동작시킬 수 있습니다.<br>\n",
    "\n",
    "```python\n",
    "if 조건1:\n",
    "    조건1이 만족할 때 실행될 코드\n",
    "elif 조건2:\n",
    "    조건1이 만족하지 않고 조건2가 만족할 때 실행될 코드\n",
    "else:\n",
    "    조건1과 조건2를 모두 만족하지 않을 때 실행될 코드\n",
    "```\n",
    "\n",
    "`elif`는 `if`의 `조건1`을 만족하지 않고 `elif`의 `조건2`를 만족할 때에 해당되는 코드가 실행되는 구조이기 때문에 `else`와는 다르게 조건이 반드시 필요합니다.\n",
    "하지만 `else`와 마찬가지로 `if` 없이 단독으로 사용될 수 없습니다.\n",
    "\n",
    "`elif` 뒤의 `조건1이 만족하지 않고 조건2가 만족할 때 실행될 코드` 부분은 `조건1`이 False(거짓) 이고 `조건2`가 True(참)일 때 실행됩니다.\n",
    "`else` 뒤의 `조건1과 조건2를 모두 만족하지 않을 때 실행될 코드` 부분은 `조건1`과 `조건2` 모두 False(거짓)일 때에 실행됩니다.\n",
    "\n",
    "각각의 경우에 실행되는 코드들은 모두 들여쓰기를 해서 조건문 밖의 코드들과 구분해줍니다.\n",
    "\n",
    "아래의 예시 코드들을 보면서 함께 익혀봅시다."
   ]
  },
  {
   "cell_type": "markdown",
   "id": "fd2150d6-4acc-4103-b6ee-cc51bccac055",
   "metadata": {},
   "source": [
    "**예제 7 : if-elif-else문을 활용하여 조건 3개에 대해 다른 동작을 하는 코드**"
   ]
  },
  {
   "cell_type": "code",
   "execution_count": null,
   "id": "64c05e33-e814-4060-a0e3-b326c58b5f72",
   "metadata": {
    "tags": []
   },
   "outputs": [],
   "source": [
    "# 예제_7_if-elif-else문을_활용하여_조건_3개에_대해_다른_동작을_하는_코드\n",
    "\n",
    "n = int(input(\"숫자를 입력하세요\"))\n",
    "if n == 5:\n",
    "    print(\"n은 5 입니다!\")  # n==5 조건이 참일 때 실행됩니다. \n",
    "elif n > 5:\n",
    "    print(\"n은 5보다 큽니다!\")  # n==5 조건이 거짓이고, n>5 조건이 참일 때 실행됩니다. \n",
    "else:\n",
    "    print(\"n은 5보다 작습니다!\")  # n==5 조건이 거짓이고, n>5 조건도 거짓일 때 실행됩니다."
   ]
  },
  {
   "cell_type": "markdown",
   "id": "ddc16017-a768-4acb-955c-28af6e8b5f4b",
   "metadata": {},
   "source": [
    "<div style=\"padding: 15px; border: 5px solid transparent; border-color: transparent; margin-bottom: 20px; border-radius: 4px; color: #8a6d3b;  border-color: #faebcc;\">\n",
    "    <div style=\"font-weight: bold; font-size: 20px\">💯 연습문제를 풀어봅시다</div>\n",
    "    <br>\n",
    "    <a class=\"jcecodle-mk jcecodle-mk__problem-chip\" data-problem-id=\"130\" href='#jce-judge/open/130' target='_self'><span>점수 등급 분류하기1</span></a>\n",
    "    <a class=\"jcecodle-mk jcecodle-mk__problem-chip\" data-problem-id=\"133\" href='#jce-judge/open/133' target='_self'><span>이번 달은 무슨 계절일까요?</span></a>\n",
    "    <a class=\"jcecodle-mk jcecodle-mk__problem-chip\" data-problem-id=\"-l6jVCapBY0\" href='#jce-judge/open/-l6jVCapBY0' target='_self'><span>주민등록번호</span></a>\n",
    "\n",
    "</div>"
   ]
  },
  {
   "cell_type": "markdown",
   "id": "71433973-fb20-4776-bce0-8e50cbc86601",
   "metadata": {
    "tags": []
   },
   "source": [
    "<div style=\"padding: 15px; border: 5px solid transparent; border-color: transparent; margin-bottom: 20px; border-radius: 4px; color: #3c763d; border-color: #d6e9c6; font-weight: bold;\">\n",
    "<h2 style='font-weight: bold'>프로젝트</h2>\n",
    "숫자 야구 게임에서 볼, 스트라이크를 판정하는 시스템을 만들어봅시다.\n",
    "</div> "
   ]
  },
  {
   "cell_type": "markdown",
   "id": "6f42b5bb-311e-4fac-80fc-fc377a8a2ac4",
   "metadata": {},
   "source": [
    "이번 시간에는 숫자 야구 게임의 핵심인 힌트를 생성하는 시스템을 만듭니다. <br>\n",
    "플레이어가 입력한 답과 정답을 비교하여 볼과 스트라이크를 각각 계산하여 그 결과를 출력합니다.<br>\n",
    "또한 계산된 결과를 바탕으로 정답 여부 및 아웃 여부를 계산합니다.<br>\n",
    "\n",
    "**목표:**\n",
    "플레이어가 입력한 값과 답을 비교하여 볼과 스트라이크를 계산한다.<br>\n",
    "볼과 스트라이크를 기반으로 정답 및 아웃 여부를 계산한다.<br>\n",
    "\n",
    "**참고사항:**\n",
    "- 정답은 369로 합니다.\n",
    "- 3스트라이크일 경우 \"정답입니다.\"를 출력하고 0스트라이크 0볼일 경우 \"아웃입니다.\"를 출력합니다.\n",
    "- 스트라이크 값은 s에, 볼 값은 b에 저장합니다.\n",
    "- 정답이나 아웃이 아닐 때에는 \"1 스트라이크 1 볼 입니다.\"와 같이 출력합니다.\n",
    "\n",
    "<table>\n",
    "<tr>\n",
    "    <th>\n",
    "        <img src=\"https://tmn-bucket-materials-all.s3.ap-northeast-2.amazonaws.com/image/dissac/dissac_nepes_4_05_01.png\" width=\"750\"></th>\n",
    "<tr>\n",
    "    <th>프로젝트 목표</th>\n",
    "</tr>\n",
    "</table>"
   ]
  },
  {
   "cell_type": "markdown",
   "id": "cec9612c-7a2b-4d87-8959-b2f44cb9f77b",
   "metadata": {},
   "source": [
    "<div style=\"padding: 15px; border: 5px solid transparent; border-color: transparent; margin-bottom: 20px; border-radius: 4px; color: #31708f; border-color: #bce8f1;\">\n",
    "    <div style=\"font-weight: bold; font-size: 20px\">📌 HINT</div>\n",
    "    문자열에 특정 문자열이 포함되어있는지를 판단하기 위해서 in 연산을 사용할 수 있습니다.<br>\n",
    "    <code>\"a\" in \"abc\"</code>는 True를 반환하고 <code>\"d\" in \"abc\"</code>는 False를 반환합니다.\n",
    "</div>"
   ]
  },
  {
   "cell_type": "markdown",
   "id": "27478492-fb63-4cb2-ab4a-4ed6187b8630",
   "metadata": {},
   "source": [
    "<div style=\"padding: 15px; border: 5px solid transparent; border-color: transparent; margin-bottom: 20px; border-radius: 4px; color: #31708f; border-color: #bce8f1;\">\n",
    "    <div style=\"font-weight: bold; font-size: 20px\">📌 HINT</div>\n",
    "    2가지 조건을 동시에 만족하는지를 판단하기 위해서는 and 연산자를 사용할 수 있습니다.<br>\n",
    "    <code>True and True</code>, <code>True and False</code>, <code>False and True</code>는 True를 반환하고 <code>False and False</code>는 False를 반환합니다.\n",
    "</div>"
   ]
  },
  {
   "cell_type": "code",
   "execution_count": null,
   "id": "4c40bd0e-f391-4649-91f6-4eb1880c56c8",
   "metadata": {
    "error_code": "answer = \"369\"\n\nhistory = []\nresult = []\n\nprint(\"1번째 이닝입니다.(1/9)\")\nplayer = input(\"정답을 입력해주세요\")\nhistory.append(player)\n\n### 볼, 스트라이크 판별\ns = 0\nb = 0\nif player[0] == answer[0]:\n    s += 1\nelif player[0] in answer:\n    b += 1\n\nif player[1] == answer[1]:\n    s += 1\nelif player[1] in answer:\n    b += 1\n\nif player[2] == answer[2]:\n    s += 1\nelif player[2] in answer:\n    b += 1\n    \nresult.append([s,b])\n\nprint(\"입력한 정답은 \", player, \" 입니다.\")\n\n### 정답, 아웃 판정\nif s == 3:\n    print(\"정답입니다.\")\nelif s == 0 and b == 0:\n    print(\"아웃입니다.\")\nelse:\n    print(s, \" 스트라이크, \", b,\" 볼 입니다.\")\n\nprint(\"지금까지의 기록입니다 : \", history, result)\nprint(\"-\"*50)\n\nprint(\"2번째 이닝입니다.(2/9)\")\nplayer = input(\"정답을 입력해주세요\")\nhistory.append(player)\n\n### 볼, 스트라이크 판별\ns = 0\nb = 0\nif player[0] == answer[0]:\n    s += 1\nelif player[0] in answer:\n    b += 1\n\nif player[1] == answer[1]:\n    s += 1\nelif player[1] in answer:\n    b += 1\n\nif player[2] == answer[2]:\n    s += 1\nelif player[2] in answer:\n    b += 1\n    \nresult.append([s,b])\n\nprint(\"입력한 정답은 \", player, \" 입니다.\")\n\n### 정답, 아웃 판정\nif s == 3:\n    print(\"정답입니다.\")\nelif s == 0 and b == 0:\n    print(\"아웃입니다.\")\nelse:\n    print(s, \" 스트라이크, \", b,\" 볼 입니다.\")\n\nprint(\"지금까지의 기록입니다 : \", history, result)\nprint(\"-\"*50)\n\nprint(\"3번째 이닝입니다.(3/9)\")\nplayer = input(\"정답을 입력해주세요\")\nhistory.append(player)\n\n### 볼, 스트라이크 판별\ns = 0\nb = 0\nif player[0] == answer[0]:\n    s += 1\nelif player[0] in answer:\n    b += 1\n\nif player[1] == answer[1]:\n    s += 1\nelif player[1] in answer:\n    b += 1\n\nif player[2] == answer[2]:\n    s += 1\nelif player[2] in answer:\n    b += 1\n    \nresult.append([s,b])\n\nprint(\"입력한 정답은 \", player, \" 입니다.\")\n\n### 정답, 아웃 판정\nif s == 3:\n    print(\"정답입니다.\")\nelif s == 0 and b == 0:\n    print(\"아웃입니다.\")\nelse:\n    print(s, \" 스트라이크, \", b,\" 볼 입니다.\")\n\nprint(\"지금까지의 기록입니다 : \", history, result)\nprint(\"-\"*50)",
    "tags": []
   },
   "outputs": [],
   "source": [
    "# 참고 코드\n",
    "answer = \"369\" # 정답\n",
    "\n",
    "history = [] # history 리스트\n",
    "result = [] # result 리스트\n",
    "\n",
    "print(\"1번째 이닝입니다.(1/9)\") # 이닝 안내\n",
    "player = input(\"정답을 입력해주세요\") # 입력값 받아오기\n",
    "history.append(player) # history에 입력값 기록하기\n",
    "\n",
    "### TODO : 볼, 스트라이크 판별(스트라이크는 변수 s에, 볼은 변수 b에 저장합니다.)\n",
    "\n",
    "###\n",
    "    \n",
    "result.append([s,b]) # result에 결과값 기록하기\n",
    "\n",
    "print(\"입력한 정답은 \", player, \" 입니다.\") # 입력값 출력하기\n",
    "\n",
    "### TODO : 정답, 아웃 판정\n",
    "\n",
    "###\n",
    "\n",
    "if s == 3:\n",
    "    print(\"정답입니다.\")\n",
    "elif s == 0 and b == 0:\n",
    "    print(\"아웃입니다.\")\n",
    "else:\n",
    "    print(s, \" 스트라이크, \", b,\" 볼 입니다.\")\n",
    "\n",
    "print(\"지금까지의 기록입니다 : \", history, result) # 지금까지의 결과 출력\n",
    "print(\"-\"*50) # 구분선"
   ]
  },
  {
   "cell_type": "code",
   "execution_count": null,
   "id": "0613acfa-94d3-4204-8f51-c25d39a3c9e9",
   "metadata": {
    "error_code": "answer = \"369\"\n\nhistory = []\nresult = []\n\nprint(\"1번째 이닝입니다.(1/9)\")\nplayer = input(\"정답을 입력해주세요\")\nhistory.append(player)\n\n### 볼, 스트라이크 판별\ns = 0\nb = 0\nif player[0] == answer[0]:\n    s += 1\nelif player[0] in answer:\n    b += 1\n\nif player[1] == answer[1]:\n    s += 1\nelif player[1] in answer:\n    b += 1\n\nif player[2] == answer[2]:\n    s += 1\nelif player[2] in answer:\n    b += 1\n    \nresult.append([s,b])\n\nprint(\"입력한 정답은 \", player, \" 입니다.\")\n\n### 정답, 아웃 판정\nif s == 3:\n    print(\"정답입니다.\")\nelif s == 0 and b == 0:\n    print(\"아웃입니다.\")\nelse:\n    print(s, \" 스트라이크, \", b,\" 볼 입니다.\")\n\nprint(\"지금까지의 기록입니다 : \", history, result)\nprint(\"-\"*50)\n\nprint(\"2번째 이닝입니다.(2/9)\")\nplayer = input(\"정답을 입력해주세요\")\nhistory.append(player)\n\n### 볼, 스트라이크 판별\ns = 0\nb = 0\nif player[0] == answer[0]:\n    s += 1\nelif player[0] in answer:\n    b += 1\n\nif player[1] == answer[1]:\n    s += 1\nelif player[1] in answer:\n    b += 1\n\nif player[2] == answer[2]:\n    s += 1\nelif player[2] in answer:\n    b += 1\n    \nresult.append([s,b])\n\nprint(\"입력한 정답은 \", player, \" 입니다.\")\n\n### 정답, 아웃 판정\nif s == 3:\n    print(\"정답입니다.\")\nelif s == 0 and b == 0:\n    print(\"아웃입니다.\")\nelse:\n    print(s, \" 스트라이크, \", b,\" 볼 입니다.\")\n\nprint(\"지금까지의 기록입니다 : \", history, result)\nprint(\"-\"*50)\n\nprint(\"3번째 이닝입니다.(3/9)\")\nplayer = input(\"정답을 입력해주세요\")\nhistory.append(player)\n\n### 볼, 스트라이크 판별\ns = 0\nb = 0\nif player[0] == answer[0]:\n    s += 1\nelif player[0] in answer:\n    b += 1\n\nif player[1] == answer[1]:\n    s += 1\nelif player[1] in answer:\n    b += 1\n\nif player[2] == answer[2]:\n    s += 1\nelif player[2] in answer:\n    b += 1\n    \nresult.append([s,b])\n\nprint(\"입력한 정답은 \", player, \" 입니다.\")\n\n### 정답, 아웃 판정\nif s == 3:\n    print(\"정답입니다.\")\nelif s == 0 and b == 0:\n    print(\"아웃입니다.\")\nelse:\n    print(s, \" 스트라이크, \", b,\" 볼 입니다.\")\n\nprint(\"지금까지의 기록입니다 : \", history, result)\nprint(\"-\"*50)",
    "tags": []
   },
   "outputs": [],
   "source": [
    "# 정답코드\n",
    "\n",
    "answer = \"369\"\n",
    "\n",
    "history = []\n",
    "result = []\n",
    "\n",
    "print(\"1번째 이닝입니다.(1/9)\")\n",
    "player = input(\"정답을 입력해주세요\")\n",
    "history.append(player)\n",
    "\n",
    "### 볼, 스트라이크 판별\n",
    "s = 0\n",
    "b = 0\n",
    "if player[0] == answer[0]:\n",
    "    s += 1\n",
    "elif player[0] in answer:\n",
    "    b += 1\n",
    "\n",
    "if player[1] == answer[1]:\n",
    "    s += 1\n",
    "elif player[1] in answer:\n",
    "    b += 1\n",
    "\n",
    "if player[2] == answer[2]:\n",
    "    s += 1\n",
    "elif player[2] in answer:\n",
    "    b += 1\n",
    "    \n",
    "result.append([s,b])\n",
    "\n",
    "print(\"입력한 정답은 \", player, \" 입니다.\")\n",
    "\n",
    "### 정답, 아웃 판정\n",
    "if s == 3:\n",
    "    print(\"정답입니다.\")\n",
    "elif s == 0 and b == 0:\n",
    "    print(\"아웃입니다.\")\n",
    "else:\n",
    "    print(s, \" 스트라이크, \", b,\" 볼 입니다.\")\n",
    "\n",
    "print(\"지금까지의 기록입니다 : \", history, result)\n",
    "print(\"-\"*50)\n",
    "\n",
    "print(\"2번째 이닝입니다.(2/9)\")\n",
    "player = input(\"정답을 입력해주세요\")\n",
    "history.append(player)\n",
    "\n",
    "### 볼, 스트라이크 판별\n",
    "s = 0\n",
    "b = 0\n",
    "if player[0] == answer[0]:\n",
    "    s += 1\n",
    "elif player[0] in answer:\n",
    "    b += 1\n",
    "\n",
    "if player[1] == answer[1]:\n",
    "    s += 1\n",
    "elif player[1] in answer:\n",
    "    b += 1\n",
    "\n",
    "if player[2] == answer[2]:\n",
    "    s += 1\n",
    "elif player[2] in answer:\n",
    "    b += 1\n",
    "    \n",
    "result.append([s,b])\n",
    "\n",
    "print(\"입력한 정답은 \", player, \" 입니다.\")\n",
    "\n",
    "### 정답, 아웃 판정\n",
    "if s == 3:\n",
    "    print(\"정답입니다.\")\n",
    "elif s == 0 and b == 0:\n",
    "    print(\"아웃입니다.\")\n",
    "else:\n",
    "    print(s, \" 스트라이크, \", b,\" 볼 입니다.\")\n",
    "\n",
    "print(\"지금까지의 기록입니다 : \", history, result)\n",
    "print(\"-\"*50)\n",
    "\n",
    "print(\"3번째 이닝입니다.(3/9)\")\n",
    "player = input(\"정답을 입력해주세요\")\n",
    "history.append(player)\n",
    "\n",
    "### 볼, 스트라이크 판별\n",
    "s = 0\n",
    "b = 0\n",
    "if player[0] == answer[0]:\n",
    "    s += 1\n",
    "elif player[0] in answer:\n",
    "    b += 1\n",
    "\n",
    "if player[1] == answer[1]:\n",
    "    s += 1\n",
    "elif player[1] in answer:\n",
    "    b += 1\n",
    "\n",
    "if player[2] == answer[2]:\n",
    "    s += 1\n",
    "elif player[2] in answer:\n",
    "    b += 1\n",
    "    \n",
    "result.append([s,b])\n",
    "\n",
    "print(\"입력한 정답은 \", player, \" 입니다.\")\n",
    "\n",
    "### 정답, 아웃 판정\n",
    "if s == 3:\n",
    "    print(\"정답입니다.\")\n",
    "elif s == 0 and b == 0:\n",
    "    print(\"아웃입니다.\")\n",
    "else:\n",
    "    print(s, \" 스트라이크, \", b,\" 볼 입니다.\")\n",
    "\n",
    "print(\"지금까지의 기록입니다 : \", history, result)\n",
    "print(\"-\"*50)"
   ]
  }
 ],
 "metadata": {
  "kernelspec": {
   "display_name": "Python 3 (ipykernel)",
   "language": "python",
   "name": "python3"
  },
  "language_info": {
   "codemirror_mode": {
    "name": "ipython",
    "version": 3
   },
   "file_extension": ".py",
   "mimetype": "text/x-python",
   "name": "python",
   "nbconvert_exporter": "python",
   "pygments_lexer": "ipython3",
   "version": "3.10.12"
  }
 },
 "nbformat": 4,
 "nbformat_minor": 5
}
